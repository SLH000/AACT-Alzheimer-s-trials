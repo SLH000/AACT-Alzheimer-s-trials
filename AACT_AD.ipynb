{
 "cells": [
  {
   "cell_type": "markdown",
   "metadata": {},
   "source": [
    "# Live Dashboard AD Clinical Trials"
   ]
  },
  {
   "cell_type": "markdown",
   "metadata": {},
   "source": [
    "## Import Library"
   ]
  },
  {
   "cell_type": "code",
   "execution_count": 26,
   "metadata": {},
   "outputs": [],
   "source": [
    "import psycopg2 \n",
    "import pandas as pd\n",
    "import streamlit as st\n",
    "import matplotlib.pyplot as plt\n",
    "import seaborn as sns\n",
    "import plotly.express as px"
   ]
  },
  {
   "cell_type": "markdown",
   "metadata": {},
   "source": [
    "### Page Configuration"
   ]
  },
  {
   "cell_type": "code",
   "execution_count": null,
   "metadata": {},
   "outputs": [],
   "source": [
    "# Set page config\n",
    "st.set_page_config(\n",
    "    page_title=\"AD Clinical Trial Dashboard\",\n",
    "    page_icon=\":bar_chart:\",\n",
    "    layout=\"wide\",\n",
    ")"
   ]
  },
  {
   "cell_type": "markdown",
   "metadata": {},
   "source": [
    "### Establish AACT connection with PostgreSQL"
   ]
  },
  {
   "cell_type": "code",
   "execution_count": null,
   "metadata": {},
   "outputs": [],
   "source": [
    "# Define the connection parameters\n",
    "conn = psycopg2.connect(\n",
    "    host=\"aact-db.ctti-clinicaltrials.org\",\n",
    "    port=\"5432\",\n",
    "    user=\"k07aa5\",   \n",
    "    password=\"k07aa5\",\n",
    "    database=\"aact\"\n",
    ")\n",
    "# Automatically refresh the page every 10 seconds\n",
    "st_autorefresh(interval=100 * 1000)  \n",
    " \n",
    "# A button to refresh data manually (if needed)\n",
    "if st.button('Refresh Data'):\n",
    "    alzheimers_data = pd.read_sql(query, conn)\n",
    "    st.experimental_rerun()\n",
    "\n",
    "\n",
    "# Query for Alzheimer's disease studies\n",
    "query = \"\"\"\n",
    "SELECT s.nct_id, s.brief_title, s.start_date, s.completion_date, s.overall_status, \n",
    "       s.phase, s.enrollment, i.intervention_type, c.name AS condition, s.primary_completion_date, sp.name AS study_sponsor\n",
    "FROM studies s\n",
    "JOIN conditions c ON s.nct_id = c.nct_id\n",
    "LEFT JOIN interventions i ON s.nct_id = i.nct_id\n",
    "LEFT JOIN sponsors sp ON s.nct_id = sp.nct_id\n",
    "WHERE LOWER(c.name) LIKE '%alzheimer%'OR LOWER(c.name) LIKE '%mild cognitive%'\n",
    "\"\"\"\n",
    "\n",
    "try:\n",
    "    # Fetch the data and store it in a pandas DataFrame\n",
    "    alzheimers_mci_data = pd.read_sql(query, conn)\n",
    "    \n",
    "    # Display the first few rows of the data\n",
    "    print(alzheimers_mci_data.head())\n",
    "\n",
    "except Exception as e:\n",
    "    print(f\"An error occurred: {e}\")\n",
    "\n",
    "finally:\n",
    "    if conn:\n",
    "        conn.close()\n",
    "        print(\"Database connection closed.\")\n"
   ]
  },
  {
   "cell_type": "markdown",
   "metadata": {},
   "source": [
    "### Data Cleaning and Processing"
   ]
  },
  {
   "cell_type": "code",
   "execution_count": null,
   "metadata": {},
   "outputs": [],
   "source": [
    "# Convert date columns to datetime format\n",
    "alzheimers_data['start_date'] = pd.to_datetime(alzheimers_data['start_date'], errors='coerce')\n",
    "alzheimers_data['completion_date'] = pd.to_datetime(alzheimers_data['completion_date'], errors='coerce')\n",
    "alzheimers_data['primary_completion_date'] = pd.to_datetime(alzheimers_data['primary_completion_date'], errors='coerce')\n",
    "\n",
    "# Filter to include only drug trials and clean up missing data in phase and completion date\n",
    "active_trials = alzheimers_data[alzheimers_data['overall_status'].isin(['ACTIVE', 'NOT_YET_RECRUITING', 'RECRUITING'])]\n",
    "drug_trials = alzheimers_data[alzheimers_data['intervention_type'].isin(['DRUG'])]\n",
    "clean_df = drug_trials.dropna(subset=['phase', 'primary_completion_date'])\n",
    "clean_df = clean_df[clean_df['phase'] != 'NA']\n",
    "\n",
    "# Add start and completion year columns\n",
    "clean_df['start_year'] = clean_df['start_date'].dt.year\n",
    "clean_df['completion_year'] = clean_df['completion_date'].dt.year\n",
    "clean_df['start_year'] = clean_df['start_year'].astype('Int64')\n",
    "clean_df['completion_year'] = clean_df['completion_year'].astype('Int64')"
   ]
  },
  {
   "cell_type": "markdown",
   "metadata": {},
   "source": [
    "### Data Standardization Functions"
   ]
  },
  {
   "cell_type": "code",
   "execution_count": null,
   "metadata": {},
   "outputs": [],
   "source": [
    "# Function to return \"University\" if any part contains the term\n",
    "def map_to_alzheimers(study_sponsor):\n",
    "    if pd.Series(study_sponsor).str.contains(r\"(?i)\\bUniversity\\b\", regex=True).any():\n",
    "        return \"Univsrsity\"\n",
    "    elif pd.Series(study_sponsor).str.contains(r\"(?i)\\bInstitute\\b\", regex=True).any():\n",
    "        return \"Univsrsity\"\n",
    "    else:\n",
    "        return study_sponsor\n",
    "\n",
    "# Apply the function to the 'Conditions' column\n",
    "clean_df['standardized_sponsor'] = clean_df['study_sponsor'].apply(map_to_alzheimers)\n",
    "\n",
    "# Function to return \"Alzheimer's Disease\" if any part contains the term\n",
    "def map_to_alzheimers(condition):\n",
    "    if pd.Series(condition).str.contains(r\"(?i)\\bAlzheimer['s]?\\b\", regex=True).any():\n",
    "        return \"Alzheimer's Disease\"\n",
    "    if pd.Series(condition).str.contains(r\"(?i)\\bMild\\b\", regex=True).any():\n",
    "        return \"Mild Cognitive Impairment\"    \n",
    "    else: \n",
    "        return condition\n",
    "# Apply the function to the 'condition' column\n",
    "clean_df['standardized_condition'] = clean_df['condition'].apply(map_to_alzheimers)"
   ]
  },
  {
   "cell_type": "markdown",
   "metadata": {},
   "source": [
    "### Live Dashboard"
   ]
  },
  {
   "cell_type": "code",
   "execution_count": null,
   "metadata": {},
   "outputs": [],
   "source": [
    "# Title of the dashboard\n",
    "st.title(\":bar_chart: Alzheimer's Disease Clinical Trial Live Dashboard\")\n",
    "st.markdown('## Insight into Alzheimer’s Disease Trials')\n",
    "\n",
    "# Streamlit slider for selecting the year range for completed trials\n",
    "st.subheader(\"Select Year Range for Trials\")\n",
    "start_year, end_year = st.slider(\n",
    "    \"Select the range of years\",\n",
    "    min_value=int(clean_df['start_year'].min()),\n",
    "    max_value=int(clean_df['completion_year'].max()),\n",
    "    value=(2010, 2030)\n",
    ")\n",
    "# Streamlit multiselect for phase selection\n",
    "phases = clean_df['phase'].unique()\n",
    "selected_phases = st.multiselect(\"Select Trial Phases\", options=phases, default=phases)\n",
    "\n",
    "# Filter the data based on the selected year range and selected phases\n",
    "df_complete = clean_df[\n",
    "    (clean_df['start_year'] >= start_year) &\n",
    "    (clean_df['completion_year'] <= end_year) &\n",
    "    (clean_df['phase'].isin(selected_phases))\n",
    "]\n",
    "# Trials over time\n",
    "trials_over_time = clean_df[clean_df['phase'].isin(selected_phases)].groupby(clean_df['start_year']).size()\n",
    "st.write(\"### New Alzheimer’s Trials Over Time\")\n",
    "st.line_chart(trials_over_time)\n",
    "\n",
    "\n",
    "# Count the number of trials in the Selected Year Range\n",
    "num_trials_complete = df_complete.shape[0]\n",
    "st.subheader(\"Number of Trials the Selected Year Range\")\n",
    "st.metric(label=\"Trials (Selected Year Range)\", value=num_trials_complete)\n",
    "\n",
    "# Phase distribution\n",
    "st.write(\"### Number of Trials by Phase\")\n",
    "phase_distribution = df_complete['phase'].value_counts()\n",
    "st.bar_chart(phase_distribution)\n",
    "\n",
    "\n",
    "# Plot 1: Pie Chart for Phases of trials in the Selected Year Range\n",
    "st.subheader(\"Phases Distribution of Trials in the Selected Year Range\")\n",
    "phase_counts = df_complete['phase'].value_counts()\n",
    "fig1, ax1 = plt.subplots()\n",
    "ax1.pie(phase_counts, labels=phase_counts.index, autopct='%1.1f%%', startangle=40)\n",
    "ax1.axis('equal')\n",
    "st.pyplot(fig1)\n",
    "\n",
    "# Plot 2: Bar Chart for Sponsor vs. Phases ( in the Selected Year Range)\n",
    "st.subheader(\"Sponsor vs. Phases of Trials in the Selected Year Range\")\n",
    "sponsor_phase_counts = df_complete.groupby(['standardized_sponsor', 'phase']).size().reset_index(name='Counts')\n",
    "fig2 = px.bar(sponsor_phase_counts, x='standardized_sponsor', y='Counts', color='phase', barmode='group',\n",
    "               title=\"Number of Studies per Sponsor by Phases\")\n",
    "st.plotly_chart(fig2)\n",
    "\n",
    "# Plot 3: Bar Chart for Conditions\n",
    "st.subheader(\"Trials by Condition (in the Selected Year Range)\")\n",
    "condition_counts = df_complete.groupby('standardized_condition').size().reset_index(name='Counts')\n",
    "fig3 = px.bar(condition_counts, x='standardized_condition', y='Counts',\n",
    "               title=\"Number of Studies per Condition\")\n",
    "st.plotly_chart(fig3)\n",
    "\n",
    "# Footer\n",
    "st.write(\"### Data Source: [ClinicalTrials.gov](https://clinicaltrials.gov)\")\n",
    "\n",
    "# Close the connection\n",
    "conn.close()"
   ]
  }
 ],
 "metadata": {
  "kernelspec": {
   "display_name": ".venv",
   "language": "python",
   "name": "python3"
  },
  "language_info": {
   "codemirror_mode": {
    "name": "ipython",
    "version": 3
   },
   "file_extension": ".py",
   "mimetype": "text/x-python",
   "name": "python",
   "nbconvert_exporter": "python",
   "pygments_lexer": "ipython3",
   "version": "3.11.2"
  }
 },
 "nbformat": 4,
 "nbformat_minor": 2
}
